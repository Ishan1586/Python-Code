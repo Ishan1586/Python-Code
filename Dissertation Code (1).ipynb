{
 "cells": [
  {
   "cell_type": "code",
   "execution_count": null,
   "id": "b5e2a9ec",
   "metadata": {},
   "outputs": [],
   "source": [
    "pip install pandas"
   ]
  },
  {
   "cell_type": "code",
   "execution_count": null,
   "id": "508604e6",
   "metadata": {},
   "outputs": [],
   "source": [
    "import xml.etree.ElementTree as ET\n",
    "import pandas as pd"
   ]
  },
  {
   "cell_type": "code",
   "execution_count": 2,
   "id": "46cc4b76",
   "metadata": {},
   "outputs": [],
   "source": [
    "import xml.etree.ElementTree as ET\n",
    "import pandas as pd\n",
    "\n",
    "def xml_to_csv(xml_file, csv_file):\n",
    "    tree = ET.parse(xml_file)\n",
    "    root = tree.getroot()\n",
    "\n",
    "    # Extracting data from XML\n",
    "    data = []\n",
    "    columns = []\n",
    "\n",
    "    for i, child in enumerate(root):\n",
    "        data_dict = {}\n",
    "        for subchild in child:\n",
    "            if subchild.tag not in columns:\n",
    "                columns.append(subchild.tag)\n",
    "            data_dict[subchild.tag] = subchild.text\n",
    "        data.append(data_dict)\n",
    "    print(columns)\n"
   ]
  },
  {
   "cell_type": "code",
   "execution_count": null,
   "id": "6c5f90a0",
   "metadata": {},
   "outputs": [],
   "source": [
    "import pandas as pd"
   ]
  },
  {
   "cell_type": "code",
   "execution_count": null,
   "id": "d5e2dbc0",
   "metadata": {},
   "outputs": [],
   "source": [
    "csv_file='output_dataset.csv'\n",
    "df= pd.read_csv(csv_file)\n",
    "print(df.head())"
   ]
  },
  {
   "cell_type": "code",
   "execution_count": null,
   "id": "a1d5df0f",
   "metadata": {},
   "outputs": [],
   "source": [
    "import pandas as pd\n",
    "\n",
    "# Verify file existence\n",
    "csv_file = 'output_dataset.csv'  # Replace with your actual CSV file name\n",
    "try:\n",
    "    with open(csv_file, 'r') as file:\n",
    "        content = file.read()\n",
    "        if not content:\n",
    "            raise ValueError(\"The file is empty\")\n",
    "except FileNotFoundError:\n",
    "    raise FileNotFoundError(f\"File {csv_file} not found. Please check the file path.\")\n",
    "\n",
    "# Load the CSV file\n",
    "try:\n",
    "    df = pd.read_csv(csv_file, error_bad_lines=False, warn_bad_lines=True, engine='python')\n",
    "    print(df.head())\n",
    "except pd.errors.EmptyDataError:\n",
    "    print(\"No columns to parse from file. The file might be empty or improperly formatted.\")\n",
    "except pd.errors.ParserError as e:\n",
    "    print(f\"Parsing error: {e}\")\n",
    "\n",
    "# Display the first few rows\n",
    "if not df.empty:\n",
    "    print(df.head())\n",
    "else:\n",
    "    print(\"The dataframe is empty. Please check the CSV file content.\")"
   ]
  },
  {
   "cell_type": "code",
   "execution_count": null,
   "id": "fb8f1dd4",
   "metadata": {},
   "outputs": [],
   "source": []
  }
 ],
 "metadata": {
  "kernelspec": {
   "display_name": "Python 3 (ipykernel)",
   "language": "python",
   "name": "python3"
  },
  "language_info": {
   "codemirror_mode": {
    "name": "ipython",
    "version": 3
   },
   "file_extension": ".py",
   "mimetype": "text/x-python",
   "name": "python",
   "nbconvert_exporter": "python",
   "pygments_lexer": "ipython3",
   "version": "3.9.12"
  }
 },
 "nbformat": 4,
 "nbformat_minor": 5
}
